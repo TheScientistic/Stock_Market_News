{
 "cells": [
  {
   "cell_type": "code",
   "execution_count": 43,
   "metadata": {},
   "outputs": [],
   "source": [
    "import requests\n",
    "from bs4 import BeautifulSoup\n",
    "import nltk\n",
    "from nltk.sentiment.vader import SentimentIntensityAnalyzer  #Using Vader Lexicon\n",
    "import time"
   ]
  },
  {
   "cell_type": "code",
   "execution_count": 44,
   "metadata": {},
   "outputs": [
    {
     "name": "stderr",
     "output_type": "stream",
     "text": [
      "[nltk_data] Downloading package vader_lexicon to\n",
      "[nltk_data]     /home/rajatk/nltk_data...\n",
      "[nltk_data]   Package vader_lexicon is already up-to-date!\n"
     ]
    },
    {
     "data": {
      "text/plain": [
       "True"
      ]
     },
     "execution_count": 44,
     "metadata": {},
     "output_type": "execute_result"
    }
   ],
   "source": [
    "nltk.download(\"vader_lexicon\")  #Downloading Lexicon Data\n"
   ]
  },
  {
   "cell_type": "markdown",
   "metadata": {},
   "source": [
    "Function for News Scapping from Money Control"
   ]
  },
  {
   "cell_type": "code",
   "execution_count": 45,
   "metadata": {},
   "outputs": [],
   "source": [
    "def scrape_money_control_news():\n",
    "    url = \"https://www.moneycontrol.com/news/business/markets/\"\n",
    "    response = requests.get(url)\n",
    "    #print(response.content)\n",
    "    soup = BeautifulSoup(response.text, \"html.parser\")\n",
    "    headlines = soup.find_all(\"h2\")\n",
    "\n",
    "    news_articles = []\n",
    "    for headline in headlines:\n",
    "        news_articles.append(headline.text.strip())\n",
    "    \n",
    "    #print(len(news_articles))\n",
    "    #print(news_articles)\n",
    "    return news_articles\n"
   ]
  },
  {
   "cell_type": "code",
   "execution_count": 46,
   "metadata": {},
   "outputs": [],
   "source": [
    "def analyze_sentiment(text):\n",
    "    sid = SentimentIntensityAnalyzer()\n",
    "    sentiment_scores = sid.polarity_scores(text)\n",
    "    #print(sentiment_scores)\n",
    "    sentiment = \"Neutral\"\n",
    "    if sentiment_scores[\"compound\"] > 0.05:\n",
    "        sentiment = \"Positive\"\n",
    "    elif sentiment_scores[\"compound\"] < -0.05:\n",
    "        sentiment = \"Negative\"\n",
    "    return sentiment, sentiment_scores\n"
   ]
  },
  {
   "cell_type": "code",
   "execution_count": 47,
   "metadata": {},
   "outputs": [],
   "source": [
    "def create_sentiment_alert(news_articles):\n",
    "    for article in news_articles:\n",
    "        sentiment = analyze_sentiment(article)\n",
    "        print(f\"Article: {article}\")\n",
    "        print(f\"Sentiment: {sentiment[0]}\")\n",
    "        print(f\"Score: {sentiment[1]}\")\n",
    "        if sentiment != \"Neutral\":\n",
    "            print(\"Alert: Significant Sentiment Shift Detected! \\n\")\n"
   ]
  },
  {
   "cell_type": "code",
   "execution_count": 48,
   "metadata": {},
   "outputs": [
    {
     "name": "stdout",
     "output_type": "stream",
     "text": [
      "Scraping Money Control for news articles...\n"
     ]
    },
    {
     "name": "stdout",
     "output_type": "stream",
     "text": [
      "Article: Tata MF, Plutus Wealth, others pick shares worth Rs 1,349 crore in Restaurant Brand Asia\n",
      "Sentiment: Positive\n",
      "Score: {'neg': 0.0, 'neu': 0.622, 'pos': 0.378, 'compound': 0.743}\n",
      "Alert: Significant Sentiment Shift Detected! \n",
      "\n",
      "Article: I think there is a gene for value investing: Seth Klarman of The Baupost Group\n",
      "Sentiment: Positive\n",
      "Score: {'neg': 0.0, 'neu': 0.833, 'pos': 0.167, 'compound': 0.34}\n",
      "Alert: Significant Sentiment Shift Detected! \n",
      "\n",
      "Article: I wouldn't touch anything Softbank has touched: Aswath Damodaran\n",
      "Sentiment: Neutral\n",
      "Score: {'neg': 0.0, 'neu': 1.0, 'pos': 0.0, 'compound': 0.0}\n",
      "Alert: Significant Sentiment Shift Detected! \n",
      "\n",
      "Article: 40 smallcap stocks deliver in double digits as market scales record high\n",
      "Sentiment: Neutral\n",
      "Score: {'neg': 0.0, 'neu': 1.0, 'pos': 0.0, 'compound': 0.0}\n",
      "Alert: Significant Sentiment Shift Detected! \n",
      "\n",
      "Article: Market climbs record highs amid volatility, but rupee stays downhill\n",
      "Sentiment: Neutral\n",
      "Score: {'neg': 0.0, 'neu': 1.0, 'pos': 0.0, 'compound': 0.0}\n",
      "Alert: Significant Sentiment Shift Detected! \n",
      "\n",
      "Article: Wall Street tumbles, Treasury yields gain as focus turns to Fed\n",
      "Sentiment: Positive\n",
      "Score: {'neg': 0.0, 'neu': 0.634, 'pos': 0.366, 'compound': 0.6369}\n",
      "Alert: Significant Sentiment Shift Detected! \n",
      "\n",
      "Article: Fund flows decline much after continuous stock price fall: Prashant Khemka\n",
      "Sentiment: Neutral\n",
      "Score: {'neg': 0.0, 'neu': 1.0, 'pos': 0.0, 'compound': 0.0}\n",
      "Alert: Significant Sentiment Shift Detected! \n",
      "\n",
      "Article: Daily Voice | This analyst shares 5 themes for India Inc's earnings resilience over medium-term\n",
      "Sentiment: Positive\n",
      "Score: {'neg': 0.0, 'neu': 0.845, 'pos': 0.155, 'compound': 0.296}\n",
      "Alert: Significant Sentiment Shift Detected! \n",
      "\n",
      "Article: Best indicator to trading at all-time high\n",
      "Sentiment: Positive\n",
      "Score: {'neg': 0.0, 'neu': 0.588, 'pos': 0.412, 'compound': 0.6369}\n",
      "Alert: Significant Sentiment Shift Detected! \n",
      "\n",
      "Article: Vaibhav Jewellers sets price band at Rs 204-215 per share for Rs 270-crore IPO\n",
      "Sentiment: Positive\n",
      "Score: {'neg': 0.0, 'neu': 0.855, 'pos': 0.145, 'compound': 0.296}\n",
      "Alert: Significant Sentiment Shift Detected! \n",
      "\n",
      "Article: Sebi slaps Rs 2.46 crore fine on two companies, 7 individuals\n",
      "Sentiment: Positive\n",
      "Score: {'neg': 0.0, 'neu': 0.833, 'pos': 0.167, 'compound': 0.2023}\n",
      "Alert: Significant Sentiment Shift Detected! \n",
      "\n",
      "Article: Rupee falls 13 paise to close at 83.16 against US dollar\n",
      "Sentiment: Neutral\n",
      "Score: {'neg': 0.0, 'neu': 1.0, 'pos': 0.0, 'compound': 0.0}\n",
      "Alert: Significant Sentiment Shift Detected! \n",
      "\n",
      "Article: Gold trading hasn’t been this boring since the pandemic began\n",
      "Sentiment: Negative\n",
      "Score: {'neg': 0.226, 'neu': 0.774, 'pos': 0.0, 'compound': -0.3869}\n",
      "Alert: Significant Sentiment Shift Detected! \n",
      "\n",
      "Article: Can't avoid pain in the markets; have a well-diversified portfolio: Prashant Khemka\n",
      "Sentiment: Positive\n",
      "Score: {'neg': 0.0, 'neu': 0.662, 'pos': 0.338, 'compound': 0.5559}\n",
      "Alert: Significant Sentiment Shift Detected! \n",
      "\n",
      "Article: Dollar is a good currency to own because you get a much better yield in US: Mark Matthews\n",
      "Sentiment: Positive\n",
      "Score: {'neg': 0.0, 'neu': 0.707, 'pos': 0.293, 'compound': 0.7003}\n",
      "Alert: Significant Sentiment Shift Detected! \n",
      "\n",
      "Article: Zaggle Prepaid Ocean Services IPO still undersubscribed, closes the second day of bidding\n",
      "Sentiment: Neutral\n",
      "Score: {'neg': 0.0, 'neu': 1.0, 'pos': 0.0, 'compound': 0.0}\n",
      "Alert: Significant Sentiment Shift Detected! \n",
      "\n",
      "Article: BofA’s Hartnett says equity inflows surge on soft landing hopes\n",
      "Sentiment: Positive\n",
      "Score: {'neg': 0.0, 'neu': 0.763, 'pos': 0.237, 'compound': 0.4215}\n",
      "Alert: Significant Sentiment Shift Detected! \n",
      "\n",
      "Article: Investment advisor fined Rs 4 lakh for charging clients excessively, keeping poor KYC records\n",
      "Sentiment: Negative\n",
      "Score: {'neg': 0.205, 'neu': 0.795, 'pos': 0.0, 'compound': -0.4767}\n",
      "Alert: Significant Sentiment Shift Detected! \n",
      "\n",
      "Article: Sensex on record winning streak since 2007, adds Rs 14 lakh crore in just 11 sessions\n",
      "Sentiment: Positive\n",
      "Score: {'neg': 0.0, 'neu': 0.815, 'pos': 0.185, 'compound': 0.5267}\n",
      "Alert: Significant Sentiment Shift Detected! \n",
      "\n",
      "Article: Technical View: Strong possibility of Nifty moving towards 20,500 seen, provided it holds 20K\n",
      "Sentiment: Positive\n",
      "Score: {'neg': 0.0, 'neu': 0.667, 'pos': 0.333, 'compound': 0.7184}\n",
      "Alert: Significant Sentiment Shift Detected! \n",
      "\n",
      "Article: Julius Baer overweight on India: Will continue to rise, local funds more powerful than foreign flows\n",
      "Sentiment: Positive\n",
      "Score: {'neg': 0.128, 'neu': 0.715, 'pos': 0.158, 'compound': 0.1513}\n",
      "Alert: Significant Sentiment Shift Detected! \n",
      "\n",
      "Article: Godrej Consumer, Britannia, Asian Paints may see margin impact as raw material costs rise\n",
      "Sentiment: Neutral\n",
      "Score: {'neg': 0.0, 'neu': 1.0, 'pos': 0.0, 'compound': 0.0}\n",
      "Alert: Significant Sentiment Shift Detected! \n",
      "\n",
      "Article: Business in the Week Ahead: September 18-22, 2023\n",
      "Sentiment: Neutral\n",
      "Score: {'neg': 0.0, 'neu': 1.0, 'pos': 0.0, 'compound': 0.0}\n",
      "Alert: Significant Sentiment Shift Detected! \n",
      "\n",
      "Article: The Reading List: September 15, 2023\n",
      "Sentiment: Neutral\n",
      "Score: {'neg': 0.0, 'neu': 1.0, 'pos': 0.0, 'compound': 0.0}\n",
      "Alert: Significant Sentiment Shift Detected! \n",
      "\n",
      "Article: After eight years of regulatory tussle, man finally freed of a trading account he didn’t open\n",
      "Sentiment: Positive\n",
      "Score: {'neg': 0.0, 'neu': 0.838, 'pos': 0.162, 'compound': 0.4019}\n",
      "Alert: Significant Sentiment Shift Detected! \n",
      "\n",
      "Article: Watch\n",
      "Sentiment: Neutral\n",
      "Score: {'neg': 0.0, 'neu': 1.0, 'pos': 0.0, 'compound': 0.0}\n",
      "Alert: Significant Sentiment Shift Detected! \n",
      "\n",
      "Article: You got 90 Day’s Trial of\n",
      "Sentiment: Neutral\n",
      "Score: {'neg': 0.0, 'neu': 1.0, 'pos': 0.0, 'compound': 0.0}\n",
      "Alert: Significant Sentiment Shift Detected! \n",
      "\n"
     ]
    }
   ],
   "source": [
    "if __name__ == \"__main__\":\n",
    "    print(\"Scraping Money Control for news articles...\")\n",
    "    \n",
    "    while True:\n",
    "        news_articles = scrape_money_control_news()\n",
    "        create_sentiment_alert(news_articles)\n",
    "        break\n",
    "        \n",
    "        #print(\"Waiting for the next scrape...\")\n",
    "        #time.sleep(3600)  # Scrape every hour\n"
   ]
  }
 ],
 "metadata": {
  "kernelspec": {
   "display_name": "base",
   "language": "python",
   "name": "python3"
  },
  "language_info": {
   "codemirror_mode": {
    "name": "ipython",
    "version": 3
   },
   "file_extension": ".py",
   "mimetype": "text/x-python",
   "name": "python",
   "nbconvert_exporter": "python",
   "pygments_lexer": "ipython3",
   "version": "3.7.6"
  },
  "orig_nbformat": 4
 },
 "nbformat": 4,
 "nbformat_minor": 2
}
